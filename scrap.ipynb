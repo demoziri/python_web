{
 "cells": [
  {
   "cell_type": "code",
   "execution_count": 17,
   "metadata": {},
   "outputs": [
    {
     "name": "stdout",
     "output_type": "stream",
     "text": [
      "<a class=\"sister\" href=\"http://example.com/lacie\" id=\"link2\">Lacie</a>\n",
      "Lacie\n",
      "{'href': 'http://example.com/lacie', 'class': ['sister'], 'id': 'link2'}\n",
      "http://example.com/lacie\n"
     ]
    }
   ],
   "source": [
    "import requests as req # requests 모듈 => 웹페이지 요청하고 응답 받을 수 있음\n",
    "from bs4 import BeautifulSoup # html 번역기\n",
    "\n",
    "response = req.get(\"https://news.naver.com/\") # 특정 사이트의 페이지를 요청. 응답데이터 반환\n",
    "\n",
    "# html 읽어와야함.\n",
    "html_doc = \"\"\"<html><head><title>The Dormouse's story</title></head>\n",
    "<body>\n",
    "<p class=\"title\"><b>The Dormouse's story</b></p>\n",
    "\n",
    "<p class=\"story\">Once upon a time there were three little sisters; and their names were\n",
    "<a href=\"http://example.com/elsie\" class=\"sister\" id=\"link1\">Elsie</a>,\n",
    "<a href=\"http://example.com/lacie\" class=\"sister\" id=\"link2\">Lacie</a> and\n",
    "<a href=\"http://example.com/tillie\" class=\"sister\" id=\"link3\">Tillie</a>;\n",
    "and they lived at the bottom of a well.</p>\n",
    "\n",
    "<p class=\"story\">...</p>\n",
    "\"\"\"\n",
    "\n",
    "# print(html_doc)\n",
    "soup = BeautifulSoup(html_doc, 'html.parser') # soup을 이용해서 html_doc 문자열을 파싱, 그 내용을 soup 변수로 대입\n",
    "alist = soup.select(\"a\")\n",
    "# print(alist)\n",
    "\n",
    "print(alist[1])\n",
    "\n",
    "# 텍스트\n",
    "print(alist[1].text)\n",
    "\n",
    "# 속성값\n",
    "print(alist[1].attrs)\n",
    "\n",
    "# 속성값\n",
    "print(alist[1][\"href\"])\n",
    "\n",
    "\n",
    "# 태그 선택방법\n",
    "# 1. 태그 선택\n",
    "# 2. 후손 선택 \n",
    "# 3. 자식 선택\n",
    "# 4. 클래스 선택\n",
    "# 5. 아이디 선택"
   ]
  },
  {
   "cell_type": "code",
   "execution_count": 24,
   "metadata": {},
   "outputs": [
    {
     "name": "stdout",
     "output_type": "stream",
     "text": [
      "[<p class=\"cjs_dept_desc\">[단독] 폼페이오 “한·일 협력, 김정은에 큰 압력… 中에도 北문제 책임 지워야”</p>, <p class=\"cjs_dept_desc\">사회적 관계 단절에… 육아휴직 남성들도 우울감 호소 [2023 대한민국 孤 리포트]</p>, <p class=\"cjs_dept_desc\">끝없는 육아·가사노동… ‘인정’은커녕 고립감만 점점 커져 [2023 대한민국 孤 리포트]</p>, <p class=\"cjs_dept_desc\">오영교 동반성장위원장 “동반성장 평가 줄 세우기 아냐… 자율참여 유도 ‘당근’ 필요” [세계초대석]</p>, <p class=\"cjs_dept_desc\">[뉴스 즉설]'외국만 나갔다 하면…' 윤 대통령 못말리는 징크스 설마 했는데 또?</p>, <p class=\"cjs_dept_desc\">[줌인]  이순신 표준영정 논란 10년…이제 결론 내려야</p>, <p class=\"cjs_dept_desc\">[줌인]  100년 역사 전통술 현대적 재해석 '명주' 자리매김</p>, <p class=\"cjs_dept_desc\">[뉴스 즉설]시치미 뚝 송영길, 동문서답 이재명, '돈봉투 민주당' 뭐가 중한디?</p>, <p class=\"cjs_dept_desc\">美, 기준금리 0.25%P 또 올려…韓美 금리차 1.75%P로 '역대최대'(종합2보)</p>, <p class=\"cjs_dept_desc\">파월 \"금리 동결, 아직 결정 안 됐다…금리 인하는 부적절\"(종합)</p>, <p class=\"cjs_dept_desc\">최대 한미 금리차에도…한은, 경기·금융 불안에 동결 가능성</p>, <p class=\"cjs_dept_desc\">FOMC 베이비스텝에도 채권금리 일제히 하락…3년물 연 3.210%(종합)</p>, <p class=\"cjs_dept_desc\">“제2 임창정·김익래 막을 것”…여야, 전방위 제도개선</p>, <p class=\"cjs_dept_desc\">[단독]주가조작에 징벌적 손해배상 도입한다</p>, <p class=\"cjs_dept_desc\">거래소-증권사, CFD ‘깜깜이 거래’ 손본다</p>, <p class=\"cjs_dept_desc\">금감원 검사, 檢 수사, 소송전까지…벼랑끝 키움증권</p>, <p class=\"cjs_dept_desc\">[단독] \"한미동맹 새 시대\" 73% …\"IRA·반도체법 대응 아쉬워\" 66% [尹대통령 취임 1년]</p>, <p class=\"cjs_dept_desc\">[단독] CEO들 \"尹정부 1년 B학점 강성노조 대응 가장 잘해\"</p>, <p class=\"cjs_dept_desc\">\"韓경제 최대 위협은 초저출산\"</p>, <p class=\"cjs_dept_desc\">尹 \"비판·격려 받다보니 벌써 1년 … 변화 느린 부분, 더 속도\"</p>, <p class=\"cjs_dept_desc\">[尹정부 1년]⑮금리인상 불끄기 바빴다…금융혁신 '실종'</p>, <p class=\"cjs_dept_desc\">[尹정부 1년]⑭수출 부진이 끌어내린 韓경제</p>, <p class=\"cjs_dept_desc\">[尹정부 1년]⑬기업프랜들리, 경제안보 호평...느린 실행속도 '문제'</p>, <p class=\"cjs_dept_desc\">[尹정부 1년](16)자본시장 제도 반쪽 개선…시장 불안 요인 상존</p>, <p class=\"cjs_dept_desc\">[뉴스타파 X MBC PD수첩] 대장동 2탄 '로비의 로비의 로비'</p>, <p class=\"cjs_dept_desc\">[대장동 X파일] 대장동 일당이 남긴 저축은행 빚 3,672억원과 '검은 손'</p>, <p class=\"cjs_dept_desc\">[뉴스타파 X KBS시사직격] 대장동 카르텔의 기원...‘만배 형과 영수 형’</p>, <p class=\"cjs_dept_desc\">[대장동 X파일] 유동규 \"김만배의 세뇌로 천화동인 1호가 내 것이라 착각\"</p>, <p class=\"cjs_dept_desc\">'ADB 연차총회' 개막…아시아 SOC 프로젝트 쏟아진다</p>, <p class=\"cjs_dept_desc\">[ADB 연차총회] “다시 도약하는 아시아…디지털 전환, 노동 불균형 해결해야”</p>, <p class=\"cjs_dept_desc\">[ADB 연차총회]아사카와 ADB 총재 “기후변화 대응 성패, 아태지역에 달려”</p>, <p class=\"cjs_dept_desc\">[ADB 연차총회]한중일 재무장관회의…“'치앙마이 이니셔티브' 실효성 강화”</p>, <p class=\"cjs_dept_desc\">[법정B컷]\"전세사기요? 전 심부름만\"…'빌라왕' 재판 판사의 분노</p>, <p class=\"cjs_dept_desc\">SSBN 부산에 기항…'비핵화 선언'과 모순 아니라고?[안보열전]</p>, <p class=\"cjs_dept_desc\">[그래?픽!]\"저도 선생님 XX까요\" 교권 추락…학생인권 때문이라고?</p>, <p class=\"cjs_dept_desc\">[딥뉴스]리버버스는 '골병라인'을 구할 수 있을까</p>, <p class=\"cjs_dept_desc\">냉면, 비빔밥… 1만원으로 먹을 게 없는 야속한 시절</p>, <p class=\"cjs_dept_desc\">'내 돈'에 손댄 은행사람들… 사라진 양심과 제식구 감싸기 [SCOOP 관점]</p>, <p class=\"cjs_dept_desc\">넷플릭스는 누굴 위해 통 큰 투자 선택했나 [視리즈]</p>, <p class=\"cjs_dept_desc\">문 닫는 도봉고등학교 가보니… 사라질 공간에 남은 흔적들</p>, <p class=\"cjs_dept_desc\">[단독]대표님들에게 '회장님'이라 불린 라덕연, 학창시절부터…</p>, <p class=\"cjs_dept_desc\">다단계 홍보한 연예인 죄 없다?…\"사기 가담 유명인 처벌 강화해야\"</p>, <p class=\"cjs_dept_desc\">금융위 등록했다 해서 믿었는데... 법 테두리 안팎 넘나든 라덕연</p>, <p class=\"cjs_dept_desc\">檢, 라덕연 비밀사무실 압수수색… 조력자 주거지도 포함</p>, <p class=\"cjs_dept_desc\">임대료 하락 폭 전국 최고...20% 이상 내린 곳도</p>, <p class=\"cjs_dept_desc\">\"무슬림에게 돼지 작업\".. 사업장 변경 요청도 거부</p>, <p class=\"cjs_dept_desc\">인분 발견된 신축아파트.. '하자 리스트' 조작?</p>, <p class=\"cjs_dept_desc\">\"재난지원금으로 가전쇼핑?\".. 지역자금 역외로 '줄줄'</p>, <p class=\"cjs_dept_desc\">[기획] 전세사기·주가조작에 민심 `뒤숭숭`</p>, <p class=\"cjs_dept_desc\">가해자냐 피해자냐… SG발 8兆 주가폭락 `3대 의혹` [주가조작사태 `파문`]</p>, <p class=\"cjs_dept_desc\">[주가조작사태 `파문`] 개미만 불안… 금융당국 뒷짐, 정치권은 네탓 공방</p>, <p class=\"cjs_dept_desc\">“정인이법 2년…아동학대중 치사 아닌 ‘살해’ 인정 사례 많아져”[스톱, 아동학대 ]</p>, <p class=\"cjs_dept_desc\">아동학대사건 절반이 집행유예…솜방망이 처벌 여전[스톱, 아동학대]</p>, <p class=\"cjs_dept_desc\">37주 연속 내리던 용산도 하락 멈췄다…서울 4주째 하락세 둔화 [부동산360]</p>, <p class=\"cjs_dept_desc\">금리 인상 ‘라스트 댄스’ 기대 걷어 찬 파월…진짜 또 올릴까? [투자360]</p>, <p class=\"cjs_dept_desc\">전세사기법 주내 처리 난항… 여야, 보증금 지원 이견</p>, <p class=\"cjs_dept_desc\">보증금 떼일라… 서울 빌라 전세비중 역대최저</p>, <p class=\"cjs_dept_desc\">[사설]빌라 10채 중 6채 보증금 떼일 우려… ‘역전세 폭탄’ 대책 서둘라</p>, <p class=\"cjs_dept_desc\">“대도시-신축 아파트일수록 ‘역전세’ 우려 커져”</p>, <p class=\"cjs_dept_desc\">양곡법 거부, 대통령이 사상 처음으로 농민을 걷어찼다</p>, <p class=\"cjs_dept_desc\">농민 갈라치기로 끝난 양곡법 개정안 논란</p>, <p class=\"cjs_dept_desc\">‘쌀값 대치’ 사태, “정치가 정치이기를 포기한 일”</p>, <p class=\"cjs_dept_desc\">“세계 50여 개국 외환위기 직면… 내 이웃 거지 만드는 美 고금리-강달러”</p>, <p class=\"cjs_dept_desc\">챗GPT 품고 새로운 비상 나서는 MS</p>, <p class=\"cjs_dept_desc\">점점 높아지는 美 부동산 불황 위험… ‘금리’에 모든 것 달렸다</p>, <p class=\"cjs_dept_desc\">한국 부자들이 꼽은 향후 ‘투자 대상’은 이것!</p>, <p class=\"cjs_dept_desc\">[단독] “CCTV 사각지대서 범행… 사건 입증, 오롯이 내 몫이었다”</p>, <p class=\"cjs_dept_desc\">금정산, 팔공산에 국립공원 밀렸다</p>, <p class=\"cjs_dept_desc\">개념 정립·공식 통계도 없는 ‘묻지 마 범죄’</p>, <p class=\"cjs_dept_desc\">‘부산 돌려차기’ 피해자 “감옥 속 그는 내 모든 걸 아는데, 감옥 밖 나는 아는 게 없었다”</p>, <p class=\"cjs_dept_desc\">정의당, 건설노동자 분신 사망에 \"'건폭몰이' 희생자…尹정부에 무한책임\"</p>, <p class=\"cjs_dept_desc\">이재명 \"노동자 분신에 한없는 분노, 尹 사과하고 노동개악 폐기해야\"</p>, <p class=\"cjs_dept_desc\">노조는 尹 국정지지도 저장고?…'건폭' 발언 후 37%로 상승</p>, <p class=\"cjs_dept_desc\">'건폭'이라 지탄받는 건설노조를 위한 변론(辯論)['건폭'의 진짜 얼굴]</p>, <p class=\"cjs_dept_desc\">금감원, 키움證 먼저 들여다본다… ‘605억 현금화’ 김익래 의혹 조사</p>, <p class=\"cjs_dept_desc\">골프·리조트·방송연예·의료·뷰티업까지…‘문어발 확장’ 라덕연측, 자금세탁 의혹</p>, <p class=\"cjs_dept_desc\">‘최초 도입’ 英도 위험성 경고했는데… 국내 증권사들 CFD 수수료 경쟁까지</p>, <p class=\"cjs_dept_desc\">[사설] 현실로 다가온 AI 시대…기술만큼 제도·윤리 정비 나서야</p>, <p class=\"cjs_dept_desc\">[중앙시평] 외교는 정치다</p>, <p class=\"cjs_dept_desc\">[이상렬의 시시각각] 삼성과 SK하이닉스는 누가 지키나</p>, <p class=\"cjs_dept_desc\">[시론] 북한인권 개선, 이젠 말보다 행동할 때</p>, <p class=\"cjs_dept_desc\">라덕연이 배후로 지목한 김익래 다우키움그룹 회장, '주가조작 의혹' 입 연다</p>, <p class=\"cjs_dept_desc\">검찰, ‘SG발 주가폭락’ 라덕연 시그니엘 사무실 압수수색</p>, <p class=\"cjs_dept_desc\">\"종목도 잘 골랐다\"..3년간 치밀하게 이뤄진 주가조작</p>, <p class=\"cjs_dept_desc\">[경제카메라]한 달 일찍 온 빙수의 계절…빨라진 여름 마케팅</p>, <p class=\"cjs_dept_desc\">[아는기자]민주 윤관석·이성만, 자진 탈당 맞나?</p>, <p class=\"cjs_dept_desc\">[다시 간다]집안에 쓰레기 수십톤…‘불안한 동거’</p>, <p class=\"cjs_dept_desc\">[현장 카메라]“이곳 없었다면”…마약 중독자의 마지막 희망</p>, <p class=\"cjs_dept_desc\">[프레스룸 LIVE] 기시다 7일 방한…오므라이스에 숯불고기로 화답</p>, <p class=\"cjs_dept_desc\">[프레스룸 LIVE] 최고위 취소한 국민의힘, 태영호 녹취의 여파?</p>, <p class=\"cjs_dept_desc\">[프레스룸 LIVE] 어린이날 앞두고…잇따라 발생한 비극</p>, <p class=\"cjs_dept_desc\">끝나가는 미 기준금리 인상…국내 대출금리 향방은</p>, <p class=\"cjs_dept_desc\">美연준, '베이비스텝'…한은 긴축 종료할까</p>, <p class=\"cjs_dept_desc\">한미 금리차 역대 최대…환율 영향은</p>, <p class=\"cjs_dept_desc\">파월 의장 \"금리동결 결정 안돼…금리인하 시기상조\"</p>, <p class=\"cjs_dept_desc\">K-콘텐츠 점령한 ‘센 언니’들…유리 천장 뚫는 여성 서사의 진화[K-콘텐츠 뒤흔드는 걸크러쉬]</p>, <p class=\"cjs_dept_desc\">콘텐츠가 앞서간 알파걸의 시대 [K-콘텐츠 뒤흔드는 걸크러쉬]</p>, <p class=\"cjs_dept_desc\">조선의 걸 크러시와 K-컬처의 여전사들 [EDITOR's LETTER]</p>, <p class=\"cjs_dept_desc\">등유·LPG 난방비 쿠폰 사용기한 6월서 12월로 연장</p>, <p class=\"cjs_dept_desc\">심야에 무인 운영 ‘스터디카페’…화재 안전대책 추진</p>, <p class=\"cjs_dept_desc\">경제사절단이 꼽은 ‘윤석열 대통령 방미’ 최대 성과는?</p>, <p class=\"cjs_dept_desc\">전국 흐리고 비바람···한낮엔 초여름 더위</p>, <p class=\"cjs_dept_desc\">[동해안 역사문화 리포트] 8. 고구려 장수 살해 사건</p>, <p class=\"cjs_dept_desc\">[부동산 INSIGHT] 강원 깡통전세 '위험구간' 매매로 우회하는 세입자들</p>, <p class=\"cjs_dept_desc\">[한국의 산티아고 - 운탄고도를 가다] 8. 장쾌한 풍경과 소박한 아름다움이 공존하는 길</p>, <p class=\"cjs_dept_desc\">[영상] '우리 아이를 위한' 어린이날 사용 설명서</p>, <p class=\"cjs_dept_desc\">\"구급차 뺑뺑이 2시간 돌다 숨져\"‥'환자 외면' 대구병원 4곳 제재</p>, <p class=\"cjs_dept_desc\">공천 개입 의혹 윤석열 대통령·이진복 정무수석 공수처에 고발</p>, <p class=\"cjs_dept_desc\">교사 뒤 '음란행위' 중학생‥수사 못한다?</p>, <p class=\"cjs_dept_desc\">'더 글로리' 촬영장인 줄‥잔인한 학폭 영상 \"충격\"</p>, <p class=\"cjs_dept_desc\">[정승조의 아트홀릭] 걸작을 본다는 건</p>, <p class=\"cjs_dept_desc\">제동 걸린 단재고 개교... 충북교육청 진보색채 지우기 나서나</p>, <p class=\"cjs_dept_desc\">[명품 컷] 시간마저 천천히 흐르는 힐링의 섬 청산도</p>, <p class=\"cjs_dept_desc\">[정승조의 아트홀릭] 미술관이 가장 잘하는 걸 안 볼 이유는 없다</p>, <p class=\"cjs_dept_desc\">뭐든 다 해주고 싶은 어린이날인데...고물가에 씁쓸한 부모들</p>, <p class=\"cjs_dept_desc\">10살 아이들 새벽까지 일 시켜… 맥도날드, 아동 노동 위반 대거 적발</p>, <p class=\"cjs_dept_desc\">[단독] “가정위한 아이 아닌, 아이위한 가정 찾는 게 입양”</p>, <p class=\"cjs_dept_desc\">과소 수면·과다 공부·과소 운동… 불행한 어린이들</p>, <p class=\"cjs_dept_desc\">“90세까지 산다면 ‘Power Years’는 맨 끝 30년” [+영상]</p>, <p class=\"cjs_dept_desc\">“길 잃은 중소기업,정부지원 컨설팅으로 돕는다”</p>, <p class=\"cjs_dept_desc\">전두환 손자 폭로는 인정 욕구와 가족 사랑의 발로 [+영상]</p>, <p class=\"cjs_dept_desc\">“석열아, 먼저 손 내밀고 더 많이 들어라” [+영상]</p>, <p class=\"cjs_dept_desc\">비대면 진료 초진 허용, 서로 물러설 수 없는 이유 [보건의료 리포트]</p>, <p class=\"cjs_dept_desc\">바이오헬스 인재 양성 나선 정부, 빠른 변화와 소통 필요하다 [보건의료 리포트]</p>, <p class=\"cjs_dept_desc\">바이오헬스 성장 위한 정부 '선물보따리'…'오답노트' 반복하나 [보건의료 리포트]</p>, <p class=\"cjs_dept_desc\">[보건의료 리포트] 길 잃은 ‘혁신형 제약기업’, 변신의 갈림길 서다</p>, <p class=\"cjs_dept_desc\">[사설] 일 총리 사과·오염수 문제, 더이상 ‘굴욕 외교’ 없어야</p>, <p class=\"cjs_dept_desc\">일 시민단체 “기시다 총리, 강제동원 피해자에 직접 사과해야”</p>, <p class=\"cjs_dept_desc\">기시다 방한 앞두고…“사죄가 먼저다” 곳곳 규탄 목소리</p>, <p class=\"cjs_dept_desc\">[공덕포차 엑기스] “방한 앞당긴 기시다, ‘잿밥’ 노리고 온다”</p>, <p class=\"cjs_dept_desc\">\"파월! 금리 또 올린다는거야? 만다는거야?\"</p>, <p class=\"cjs_dept_desc\">금리 차 벌어졌지만 환율 급락...금융당국 \"예의주시</p>, <p class=\"cjs_dept_desc\">한은 \"美 금리 인상 마무리 단계...금융시장 변동성 주시\"</p>, <p class=\"cjs_dept_desc\">美연준 10번째 금리 인상...한미 금리격차 1.75%p 사상 최대</p>, <p class=\"cjs_dept_desc\">[하] 회의록은 거짓말을 않는다…경북 국회의원 의정활동 빅데이터 분석</p>, <p class=\"cjs_dept_desc\">류성걸 6704회 최다 발언…김승수 5688·윤재옥 3227회 [TK 정치권 국회 회의록]</p>, <p class=\"cjs_dept_desc\">TK 국회의원 발언 키워드는…'코로나 704회' '북한 592회' 공항 '530회'</p>, <p class=\"cjs_dept_desc\">실패한 文, 혼밥만?..김경만 \"尹, 중·러 적으로 돌려놓고..피해는 기업, 국민이\"[여의도초대석]</p>, <p class=\"cjs_dept_desc\">원내대표 만나겠다는 尹 \"이재명 두 번 죽이는 것\"[박영환의 시사1번지]</p>, <p class=\"cjs_dept_desc\">尹, 이재명 패싱 박광온 회동 제안?..野, 생각을 좀 하고 정치를 했으면[여의도초대석]</p>, <p class=\"cjs_dept_desc\">'자진출석' 송영길에 김병민 \"황당 갑질..사법문제 정치화, 이재명당 답다\"[여의도초대석]</p>, <p class=\"cjs_dept_desc\">응급실 돌다 숨진 대구 10대…병원 4곳 과징금에 보조금 삭감</p>, <p class=\"cjs_dept_desc\">가족 간병 상당수 노인·여성…‘대변 보조·환자 옮기기’에 골병</p>, <p class=\"cjs_dept_desc\">163년 만에 입장권 ‘완판’?…중국, 연휴 특수 어디까지</p>, <p class=\"cjs_dept_desc\">‘한일관계 개선’에 왜 미국 대통령이 감사할까?</p>, <p class=\"cjs_dept_desc\">속도 빠르지만 성숙도는 아쉽다…디지털헬스 B학점</p>, <p class=\"cjs_dept_desc\">게임정책 산적한 과제 해법 마련해야...C학점</p>, <p class=\"cjs_dept_desc\">\"산업 태동기, 우물 안에 갇혀선 안 돼\"...로봇산업 C학점</p>, <p class=\"cjs_dept_desc\">[누리호를 만드는 기업들](19) 역대 최강 로켓 잡는 스페이스X '메카질라' 만들 韓 기업</p>, <p class=\"cjs_dept_desc\">[누리호를 만드는 기업들](18) 위성 실리는 공간 내부 초미세먼지도 잡아낸다</p>, <p class=\"cjs_dept_desc\">[누리호를 만드는 기업들](17) 컨테이너에서 지내며 발사대 개발한 현대중공업</p>, <p class=\"cjs_dept_desc\">[누리호를 만드는 기업들] (16) 항공기 몸체 만들던 중소기업, 누리호 몸체도 만들었다</p>, <p class=\"cjs_dept_desc\">1.75%p 사상 최대폭 한미 금리차에도 시장은 한은 금리동결에 무게..'환율 안정찾을 것'</p>, <p class=\"cjs_dept_desc\">연준 또 금리인상, 파월은 \"금리동결 짐작하지 마라\" 경고</p>, <p class=\"cjs_dept_desc\">한은 \"美 금리인상 마무리 단계, 파월 '연내 금리인하 없다' 발언 유의\"</p>, <p class=\"cjs_dept_desc\">우울과 감자튀김, 생각보다 깊은 관계</p>, <p class=\"cjs_dept_desc\">배 꾸준히 먹었더니, 몸속 유해물질이?</p>, <p class=\"cjs_dept_desc\">혈압 조절에 살도 빼는 운동·음식은?</p>, <p class=\"cjs_dept_desc\">[부실도미노 비상]㊤고개 든 대출 연체율</p>, <p class=\"cjs_dept_desc\">[부실도미노 비상]㊥가계신용위험 위험 수위</p>, <p class=\"cjs_dept_desc\">[부실도미노 비상]㊦금융권 방파제 쌓기 총력</p>, <p class=\"cjs_dept_desc\">[단독] 영재高 삼킨 '의대 블랙홀'…이탈생 4년새 3배 급증</p>, <p class=\"cjs_dept_desc\">초등생까지 덮친 '의대쏠림'…교육부 \"사교육 주범\" 단속 예고</p>, <p class=\"cjs_dept_desc\">의약학계열 진학 제재 유지…영재학교도 성과평가 도입 [흔들리는 영재교육]</p>, <p class=\"cjs_dept_desc\">\"학교 나가서 수능 보겠다\"…의대行 제재 피하려 대탈출 [흔들리는 영재교육]</p>, <p class=\"cjs_dept_desc\">최악의 ‘협치 실종’… 쟁점법안은 강행 처리, 민생법안은 표류</p>, <p class=\"cjs_dept_desc\">외교복원·부패척결 OK… 협치실종·검찰편중 NO</p>, <p class=\"cjs_dept_desc\">“尹정부 성공하려면 협치 복원해야” 입모은 전문가들</p>, <p class=\"cjs_dept_desc\">\"취재거부 자유 있다\" 홍준표 시장에 '언론 길들이기' 비판</p>, <p class=\"cjs_dept_desc\">'김어준의 뉴스공장' 상표권 인정받을 수 있을까</p>, <p class=\"cjs_dept_desc\">종편 가진 조선 동아 매경의 '자사 이기주의' 보도</p>, <p class=\"cjs_dept_desc\">한겨레 노조비 유용 의혹에 '노조마저 흔들'…조사위 구성키로</p>, <p class=\"cjs_dept_desc\">[약손+] 아이들도 힘들다, '새 학기 증후군' ⑬부모도 서로 함께</p>, <p class=\"cjs_dept_desc\">[영상+] \"마음이 아프신가요?\" 국립 김천 치유의 숲</p>, <p class=\"cjs_dept_desc\">[토크와이드] “대구 국민의힘 국회의원 무기력 극심···시민이 회초리 들어야”</p>, <p class=\"cjs_dept_desc\">[뉴스비하인드] 대구경북신공항, 새로운 하늘길인가? 꽉 막힌 길인가?</p>, <p class=\"cjs_dept_desc\">\"어린이가 안전한 나라\" 어린이 안전 헌장 선포식 참석한 여야 대표 [TF사진관]</p>, <p class=\"cjs_dept_desc\">'총력투쟁 선포'한 민주노총 건설노조 \"건설기계 수급조절 사수\" [TF사진관]</p>, <p class=\"cjs_dept_desc\">\"사죄와 배상부터\"…일본 총리 방한 입장 밝히는 시민사회·정당 [TF사진관]</p>, <p class=\"cjs_dept_desc\">국민권익위 \"교육계 불합리한 채용 신체검사 관행 개선 권고\" [TF사진관]</p>, <p class=\"cjs_dept_desc\">잃어버린 국익을 찾아서…미국은 ‘국익’, 한국은 ‘미익’</p>, <p class=\"cjs_dept_desc\">“냉전 때와 닮아…과거로 가는 동맹” [정상회담특집②]</p>, <p class=\"cjs_dept_desc\">과거사 사죄 요구가 ‘무릎 꿇리는’ 일인가</p>, <p class=\"cjs_dept_desc\">윤 대통령, 대만을 “세계적 문제”로 언급해 중국의 반발 부르다</p>, <p class=\"cjs_dept_desc\">수도권 아파트 매매량 17개월만 최다…화성·용인 거래 활발</p>, <p class=\"cjs_dept_desc\">실종 아동 찾는 ‘지문 등록’… 아직도 안하셨나요 [101주년 어린이날]</p>, <p class=\"cjs_dept_desc\">\"이날만 기다렸는데\"...우천 예보로 경기도내 어린이날 축제 잇단 취소</p>, <p class=\"cjs_dept_desc\">경기도내 간호법 ‘부분 파업’…의료 현장 혼란 없어</p>, <p class=\"cjs_dept_desc\">고금리에 수입차 구매 줄었다… 4월 수입차 등록, 전년比 9.4% ↓</p>, <p class=\"cjs_dept_desc\">“여전히 높은 금리”…언감생심 생애 첫집 마련 꿈</p>, <p class=\"cjs_dept_desc\">금감원 \"금리상승 이유로 중도상환해도 수수료 붙어\"</p>, <p class=\"cjs_dept_desc\">추경호, 美연준 금리 인상에 “금융·외환시장 불확실성↑…모니터링 강화”</p>, <p class=\"cjs_dept_desc\">[클래식 리뷰] \"모차르트는 모국어 같다\"더니…거침없었던 손열음</p>, <p class=\"cjs_dept_desc\">[리뷰] '장수상회 : 라스트 댄스', 힘주지 않고도 관객 흔드는 힘…원로 배우들의 매력에 빠졌다</p>, <p class=\"cjs_dept_desc\">파리의 자맹, 서울 거쳐 부산 간다</p>, <p class=\"cjs_dept_desc\">밤의 미술관부터, 완판 공연 티켓까지…'아르떼'에서 한번에</p>, <p class=\"cjs_dept_desc\">[단독] \"질 수 없는 게임\"…여러차례 '수법' 알려준 라덕연, 투자자들 알고도 눈감았나</p>, <p class=\"cjs_dept_desc\">[단독] 국회 윤리위원부터 전직 청와대 행정관까지…전현직 공직자들도 발 들였다</p>, <p class=\"cjs_dept_desc\">[단독] \"암도 낫게 하는 금융치료사\" 한마디에 '골프계 큰손'도 넘어갔다</p>, <p class=\"cjs_dept_desc\">[단독] 임창정, 라덕연 가리켜 \"아주 종교야\"…조작단 사업 참여 정황</p>, <p class=\"cjs_dept_desc\">'최종금리 곧 도달'한다면서도…파월은 왜 빠져나갈 자리를 만들었을까 [신인규의 글로벌마켓 A/S]</p>, <p class=\"cjs_dept_desc\">애플, 자사주 매입 얼마나?…120조원 전망</p>, <p class=\"cjs_dept_desc\">배럴당 70달러선도 위태…유가, 감산합의 직전 수준</p>, <p class=\"cjs_dept_desc\">충격! 달러 공급, 대공황 후 90년 만에 급감 美 부동산·경기·증시 붕괴 연쇄파동 신호? [한상춘의 지금 세계는]</p>, <p class=\"cjs_dept_desc\">2030도 앓는 녹내장, 피해야 할 생활습관은?</p>, <p class=\"cjs_dept_desc\">당뇨병 환자가 가당 음료 마시면 생기는 위험은?</p>, <p class=\"cjs_dept_desc\">더 길어진 꽃가루시즌, 알레르기 대비법</p>, <p class=\"cjs_dept_desc\">다이어트 할 때 절대 먹어서는 안 되는 음식 5</p>, <p class=\"cjs_dept_desc\">[직설] 美, 또 다시 기준금리 0.25%p 인상…막바지 다다른 긴축 사이클</p>, <p class=\"cjs_dept_desc\">[어제장 오늘장] \"좋다 말았네!\"…코스피 2,500선 간신히 사수</p>, <p class=\"cjs_dept_desc\">[굿모닝 마켓] 듣기 어려운 그 단어 '동결'…美 기준금리 0.25% 인상</p>, <p class=\"cjs_dept_desc\">[이슈분석] 뉴욕증시, 예상 경로에도 '피벗' 선 그은 파월에 '깜짝'</p>, <p class=\"cjs_dept_desc\">금감원, '주가폭락 사태' 검사 착수…키움증권부터</p>, <p class=\"cjs_dept_desc\">'SG 사태' 검사로 증권가 긴장…부실 떠안을 수도</p>, <p class=\"cjs_dept_desc\">'주가조작' 핵심 친인척도 소송전…진흙탕 법정공방</p>, <p class=\"cjs_dept_desc\">Strengthening economic alliance meets U.S. protectionism</p>, <p class=\"cjs_dept_desc\">Questions about 'ironclad' commitment lead to impossible nuke solution</p>, <p class=\"cjs_dept_desc\">Rules changing as Korea-U.S. alliance turns 70</p>, <p class=\"cjs_dept_desc\">‘약골 펜스’로는 아이들 못 지킨다</p>, <p class=\"cjs_dept_desc\">학교 담장 허물어 통학로 확장…고지대 스쿨버스도 지원</p>, <p class=\"cjs_dept_desc\">[데스크시각] 청동초 3학년 故황예서 양을 추모하며</p>, <p class=\"cjs_dept_desc\">영도 청동초 스쿨존 사고 나흘 뒤에도 운전자 “불편” 민원에 신호등 미작동</p>, <p class=\"cjs_dept_desc\">[사실은] 민형배 \"탈당에 대한 헌재 판단 없었다\", 따져 보니…</p>, <p class=\"cjs_dept_desc\">'국방홍보원장 공모'도 파행하나 [취재파일]</p>, <p class=\"cjs_dept_desc\">AI 시대 우리는 무엇을 하고 살게 될까? 나의 미래 계급은? [SDF다이어리]</p>, <p class=\"cjs_dept_desc\">[씨네멘터리] 디자이너들이 꼽은 최고의 영화 포스터는?</p>, <p class=\"cjs_dept_desc\">[차담차담] \"바퀴 달린 예술작품\"-마이바흐②</p>, <p class=\"cjs_dept_desc\">[단독] '反김익래 진정서' 접수 현장에 라덕연, 의도는?</p>, <p class=\"cjs_dept_desc\">[단독] 주가조작 일당, CFD 허점 노려 '전문투자자' 대거 둔갑</p>, <p class=\"cjs_dept_desc\">[따져보니] 선관위 해킹…北 노림수는?</p>, <p class=\"cjs_dept_desc\">프랑스 외교장관과 군함은 왜 동시에 한국에 왔을까[문지방]</p>, <p class=\"cjs_dept_desc\">文정부는 두 달, 尹정부는 일주일... 외교부의 '아그레망' 과민반응[문지방]</p>, <p class=\"cjs_dept_desc\">\"휴전선 너머 상대의 마음을 훔쳐라\"… 대통령도 가세한 남북 심리전 [문지방]</p>, <p class=\"cjs_dept_desc\">게임 개발·신약 연구·디자인·마케팅… 화이트칼라부터 파고든 AI</p>, <p class=\"cjs_dept_desc\">법률 업무도 44% 대체 가능… 본격 도입 땐 재판 지연 ‘획기적 개선’</p>, <p class=\"cjs_dept_desc\">챗GPT 가정교사에 美사교육 주가 급락… AI가 기업들 흥망성쇠까지 가른다</p>, <p class=\"cjs_dept_desc\">오류 바로잡는 AI 조련사, 수억 연봉 ‘뜨는 직업’</p>, <p class=\"cjs_dept_desc\">강원도내 아파트 ‘역전세’ 수백건 확인 … 일부 전셋값 기존보다 1억원 이상 낮아져</p>, <p class=\"cjs_dept_desc\">[단독]전세사기범 ‘망상 시유지 가로채기’ 사업제안 단계부터 설계됐다</p>, <p class=\"cjs_dept_desc\">3배 늘어난 강원도 연체율 , 넉달 뒤가 더 걱정</p>, <p class=\"cjs_dept_desc\">\"독재 정권에 억울한 사람들 구속\"…분신 노조 간부 유서 추가 공개</p>, <p class=\"cjs_dept_desc\">Civic activists stage rallies over Kishida’s visit</p>, <p class=\"cjs_dept_desc\">Choo warns of market volatility as Korea-US gap hits record</p>, <p class=\"cjs_dept_desc\">Yoon celebrates opening of children's garden on ex-US military base</p>, <p class=\"cjs_dept_desc\">[르포] “레벨3 자율주행 느껴보세요”… 기아 언플러그드 성수</p>, <p class=\"cjs_dept_desc\">[르포] 1층부터 맛집으로 채웠다… 정용진 공들인 새로운 이마트</p>, <p class=\"cjs_dept_desc\">[르포] 세계는 총성 없는 생약 자원 전쟁 중...보존 연구 전초기지를 가다</p>, <p class=\"cjs_dept_desc\">'주가조작 종목' 경고 있었다…8개 중 절반은 보고서 한장 없어</p>, <p class=\"cjs_dept_desc\">김익래, 다우데이터 블록딜 거래내역 공개 \"라덕연 허위주장\"</p>, <p class=\"cjs_dept_desc\">'주가 조작'에 임원들 돈방석…서울가스 임원, 14억원어치 팔았다</p>, <p class=\"cjs_dept_desc\">'곰표 맥주' 공전의 히트 그 이후… '곰에서 호랑이로' 카피캣 논란</p>, <p class=\"cjs_dept_desc\">\"애써 키워놨더니\"… 골든블루, 칼스버그 해지 통보에 100억원대 소송전</p>, <p class=\"cjs_dept_desc\">'10년 치킨전쟁' BBQ vs bhc… 누가 경쟁사 전산망 들여다봤나</p>, <p class=\"cjs_dept_desc\">K-전기차, 갈림길에 서다…IRA 본격 시행 전부터 美 점유율 하락</p>, <p class=\"cjs_dept_desc\">K-전기차 경쟁력 SWOT 분석(1)…HW·SW 역량 높아 통합 시너지 내야</p>, <p class=\"cjs_dept_desc\">K-전기차 경쟁력 SWOT 분석 (2)…보조금 못 받고 배터리 원가 부담 높아</p>, <p class=\"cjs_dept_desc\">라인 이전 막는 ‘노조 몽니’ 탈피…‘아픈 손가락’ 중국 판매량 반등 절실</p>, <p class=\"cjs_dept_desc\">일용직 노동자의 로또 20억 당첨 후기…“빚 갚고 아파트 샀지만 일 계속”</p>, <p class=\"cjs_dept_desc\">수두·볼거리↑…봄철 학교생활 건강관리 비상</p>, <p class=\"cjs_dept_desc\">홀로 키워 아들 명문대 보냈는데…이젠 “결혼하면 얼마 보태주냐”</p>, <p class=\"cjs_dept_desc\">라식‧라섹 후 실명?…OOOO 각막이상증</p>, <p class=\"cjs_dept_desc\">노동자 형사법으로 때려잡는 윤 대통령... 싸워야겠습니다</p>, <p class=\"cjs_dept_desc\">분신 사망 건설노동자 장례, 노동조합장으로 치러진다</p>, <p class=\"cjs_dept_desc\">분신 건설노동자의 마지막 말 \"검사독재 지지율 제물로 죽는 국민\"</p>, <p class=\"cjs_dept_desc\">[오마이포토] 용산 대통령실 앞 건설노동자 추모 촛불</p>, <p class=\"cjs_dept_desc\">아파트, '바닥' 다지나 싶었는데.. 美 금리 인상에, 대출 금리까지 \"저점 맞나?\"</p>, <p class=\"cjs_dept_desc\">'겁 없는 10대' 식당 털고 노래방 주인행세하며 신용카드 결제</p>, <p class=\"cjs_dept_desc\">\"고비용? 가성비로 극복\".. '봄캉스' 제주로 오세요</p>, <p class=\"cjs_dept_desc\">IMF \"한국, 1.5% 성장, 일본보다 낫겠지만..\" 아직은  아니</p>, <p class=\"cjs_dept_desc\">여성을 가둔 감옥을 부수자, 마녀들과 춤추자</p>, <p class=\"cjs_dept_desc\">정통 워맨스, 그런데 킬힐 못 벗은 언니들의 '퀸메이커'</p>, <p class=\"cjs_dept_desc\">피해자 보호 관점 실종된 '나는 신이다' 열풍</p>, <p class=\"cjs_dept_desc\">60대에 '별의 순간' 양자경...트랜스젠더 연기로 8세에 은곰상</p>, <p class=\"cjs_dept_desc\">[공시줍줍]소액주주는 생소한 'CFD'에 대한 거의 모든 것</p>, <p class=\"cjs_dept_desc\">SG증권발 주가조작 후폭풍…무더기 미수채권에 떠는 증권사들</p>, <p class=\"cjs_dept_desc\">'일일천하' SG증권발 급락주, 앞으로도 장담 못 한다</p>]\n"
     ]
    }
   ],
   "source": [
    "import requests as req\n",
    "from bs4 import BeautifulSoup\n",
    "\n",
    "# 특정 사이트 페이지 요청, 응답데이터 반환\n",
    "response = req.get(\"https://news.naver.com/\")\n",
    "\n",
    "# print(response.text)\n",
    "soup = BeautifulSoup(response.text, 'html.parser')\n",
    "# 텍스트 가져오기\n",
    "title = soup.select(\".cjs_dept_desc\")\n",
    "print(title)\n",
    "\n"
   ]
  }
 ],
 "metadata": {
  "kernelspec": {
   "display_name": "Python 3",
   "language": "python",
   "name": "python3"
  },
  "language_info": {
   "codemirror_mode": {
    "name": "ipython",
    "version": 3
   },
   "file_extension": ".py",
   "mimetype": "text/x-python",
   "name": "python",
   "nbconvert_exporter": "python",
   "pygments_lexer": "ipython3",
   "version": "3.10.7"
  },
  "orig_nbformat": 4
 },
 "nbformat": 4,
 "nbformat_minor": 2
}
